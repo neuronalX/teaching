{
  "cells": [
    {
      "cell_type": "markdown",
      "metadata": {
        "id": "9bCKE6Ppxc40"
      },
      "source": [
        "# 2. Timeseries analysis using autoregressive methods and general Box-Jenkins methods\n",
        "\n",
        "Some useful translations, just in case:\n",
        "\n",
        "- **a timeseries**: une série temporelle (always plural in English)\n",
        "- **a trend**: une tendance\n",
        "- **a lag**: un retard, un décalage dans le temps\n",
        "- **stationary**: stationnaire\n",
        "\n",
        "\n",
        "Some interesting content to dive deeper and/or go further about timeseries analysis, or that might help you during the TD:\n",
        "\n",
        "- [The engineering statistics handbook on timeseries analysis](https://www.itl.nist.gov/div898/handbook/pmc/section4/pmc4.htm)\n",
        "\n",
        "- [A Stanford class on autoregressive models seen as generative models](https://deepgenerativemodels.github.io/notes/) (and more on deep generative models)"
      ]
    },
    {
      "cell_type": "code",
      "execution_count": null,
      "metadata": {
        "id": "X3CDTGeixYqV"
      },
      "outputs": [],
      "source": [
        "import datetime\n",
        "import pandas as pd\n",
        "import numpy as np\n",
        "import matplotlib.pyplot as plt\n",
        "import statsmodels\n",
        "import scipy"
      ]
    },
    {
      "cell_type": "markdown",
      "metadata": {
        "id": "7DyHgOIIV-A-"
      },
      "source": [
        "## 1. Analysis\n",
        "\n",
        "For this exercise, we will use a timeseries representing daily average temperature in Melbourne, Australia between 1980 and 1990.\n",
        "\n",
        "This timeseries will be stored in a [Pandas DataFrame object](https://pandas.pydata.org/pandas-docs/stable/reference/api/pandas.DataFrame.html), a standard to handle tabular data in Python.\n",
        "\n",
        "This analysis will follow the steps proposed by George Box and Gwilym Jenkins in 1970, called [Box-Jenkins method](https://en.wikipedia.org/wiki/Box%E2%80%93Jenkins_method), which emphasizes issues encountered when appliying autoregressive methods."
      ]
    },
    {
      "cell_type": "code",
      "execution_count": null,
      "metadata": {
        "id": "iwIn26ETxdoi"
      },
      "outputs": [],
      "source": [
        "# Read data from remote repository\n",
        "raw_df = pd.read_csv(\"https://raw.githubusercontent.com/jbrownlee/Datasets/master/daily-min-temperatures.csv\", index_col=0)"
      ]
    },
    {
      "cell_type": "code",
      "execution_count": null,
      "metadata": {
        "id": "9EdqqTlzykqY"
      },
      "outputs": [],
      "source": [
        "# Display the 5 first data points\n",
        "raw_df.head()"
      ]
    },
    {
      "cell_type": "markdown",
      "metadata": {},
      "source": [
        "Data is divided in two for model evaluation. We will use 8 first years as training data, and the two remaining years as test data."
      ]
    },
    {
      "cell_type": "code",
      "execution_count": null,
      "metadata": {},
      "outputs": [],
      "source": [
        "df, test_df = raw_df.iloc[:8*365], raw_df.iloc[8*365:]"
      ]
    },
    {
      "cell_type": "markdown",
      "metadata": {
        "id": "Vp9qJsRLXW0d"
      },
      "source": [
        "### 1.1 Run-plots analysis\n",
        "\n",
        "\"Run-plots\" are the simplest representation of a timeseries, where the x-axis represents time and the y-axis represents the observed variable, here temperature in Celsius degrees.\n",
        "\n",
        "\n",
        "**Question: Given the figures and the statistic test below, what hypothesis can you draw regarding the behaviour of this timeseries? Is is stationary? Does it displays seasonality? Trending? Explain. You can create additional figures if you need.**"
      ]
    },
    {
      "cell_type": "markdown",
      "metadata": {
        "id": "xmFNPA0yYWK8"
      },
      "source": [
        "***(You answer here)***"
      ]
    },
    {
      "cell_type": "code",
      "execution_count": null,
      "metadata": {
        "id": "2CHeMxPoylNz"
      },
      "outputs": [],
      "source": [
        "# Plot the full timeseries\n",
        "df.plot(figsize=(20, 4), title=\"Temperature in Melbourne - 1980 to 1990\")"
      ]
    },
    {
      "cell_type": "code",
      "execution_count": null,
      "metadata": {
        "id": "fTkxFN0KVppU"
      },
      "outputs": [],
      "source": [
        "# Plot the first year of data\n",
        "df.iloc[:365].plot(figsize=(20, 4), title=\"Temperature in Melbourne - one year\")"
      ]
    },
    {
      "cell_type": "markdown",
      "metadata": {
        "id": "7dPU4x5ItJWm"
      },
      "source": [
        "The Kwiatkowski-Phillips-Schmidt-Shin test is a statistical test used to check\n",
        "the stationarity of a timeseries. It is implemented in the `kpss()` function in `statsmodels`."
      ]
    },
    {
      "cell_type": "code",
      "execution_count": null,
      "metadata": {
        "id": "vPHEs26Bt1Kg"
      },
      "outputs": [],
      "source": [
        "from statsmodels.tsa.stattools import kpss\n",
        "\n",
        "kpss_stat, p, *other_stuff = kpss(df)\n",
        "\n",
        "print(f\"p-value (95% confidence interval): {p:g}, statistics: {kpss_stat:g}\")"
      ]
    },
    {
      "cell_type": "markdown",
      "metadata": {
        "id": "quKscOBav3hR"
      },
      "source": [
        "***(Draw your conclusions here)***\n",
        "\n",
        "Do we need to differentiate ? If yes, try to apply the difference operator on your data."
      ]
    },
    {
      "cell_type": "code",
      "execution_count": null,
      "metadata": {
        "id": "C-Kn6H2jLyCQ"
      },
      "outputs": [],
      "source": [
        "# df.diff() ?"
      ]
    },
    {
      "cell_type": "markdown",
      "metadata": {
        "id": "EUt8RA8bZ-RT"
      },
      "source": [
        "---\n",
        "We will now compute autocorrelation function (ACF) and partial autocorrelation function (PACF) of the timeseries. These functions compute correlation (or partial correlation) between $X[t]$ and $X[t-n]$, for an interval of different lags $n$. For now, we only evaluated correlation for lag $n=1$.\n",
        "\n",
        "**Question: Plot the ACF and the PACF of the timeseries, with $n={1, \\dots, 31}$ (one month lag) and $n={1, \\dots, 730}$ (2 years lag). What is your hypothesis on the lag to use to create the model ?**\n",
        "\n",
        "\n",
        "*Some help:*\n",
        "\n",
        "- See documentation of `statsmodels.graphics.tsaplots.plot_acf` to understand how to change the number of lags to plot.\n",
        "\n",
        "- **Autocorrelation** is the result of the multiplication (or convolution) of all points of the signal with themselves, shifted in time by a lag of $n$. The **autocorrelation function** (ACF) is the function giving autocorrelation for any lag $n$.\n",
        "\n",
        "- **Partial autocorrelation** is similar to autocorrelation, but the correlation between two points of the signal is computed assuming that this two points are independent from all points between them in time.  The **partial autocorrelation function** (PACF) is the function giving partial autocorrelation for any lag $n$.\n",
        "\n",
        "- Autocorrelation is helpful to check if a process in autoregressive. **Autoregressive processes are auto-correlated**.\n",
        "\n",
        "- Partial autocorrelation is helpful to find the order of an autoregressive process, i.e. **how many past steps are needed to predict the future one**."
      ]
    },
    {
      "cell_type": "code",
      "execution_count": null,
      "metadata": {
        "id": "97v2Pxe7nTDQ"
      },
      "outputs": [],
      "source": [
        "from statsmodels.graphics.tsaplots import plot_pacf, plot_acf"
      ]
    },
    {
      "cell_type": "markdown",
      "metadata": {
        "id": "RvfaezR3o9aa"
      },
      "source": [
        "#### 1.2.1 Autocorrelation"
      ]
    },
    {
      "cell_type": "code",
      "execution_count": null,
      "metadata": {
        "id": "9l1DuRFidoDi"
      },
      "outputs": [],
      "source": [
        "# Plot autocorrelation for lags between 1 and 730 days\n",
        "...\n",
        "\n",
        "plt.show()"
      ]
    },
    {
      "cell_type": "code",
      "execution_count": null,
      "metadata": {
        "id": "bkcqShKKc0Vr"
      },
      "outputs": [],
      "source": [
        "# Plot autocorrelation for lags between 1 and 31 days\n",
        "...\n",
        "\n",
        "plt.show()"
      ]
    },
    {
      "cell_type": "markdown",
      "metadata": {
        "id": "uiGnsLyddre2"
      },
      "source": [
        "#### 1.2.2 Partial autocorrelation"
      ]
    },
    {
      "cell_type": "code",
      "execution_count": null,
      "metadata": {
        "id": "jbRJWYkLdxb5"
      },
      "outputs": [],
      "source": [
        "# Plot partial autocorrelation for lags between 1 and 730 days\n",
        "...\n",
        "\n",
        "plt.show()"
      ]
    },
    {
      "cell_type": "code",
      "execution_count": null,
      "metadata": {
        "id": "xMTa1gZkduh5"
      },
      "outputs": [],
      "source": [
        "# Plot partial autocorrelation for lags between 1 and 31 days\n",
        "...\n",
        "\n",
        "plt.show()"
      ]
    },
    {
      "cell_type": "markdown",
      "metadata": {
        "id": "fi49FNiqd3KB"
      },
      "source": [
        "***(Your hypothesis here)***"
      ]
    },
    {
      "cell_type": "markdown",
      "metadata": {
        "id": "Wjw_NyQ3eMAx"
      },
      "source": [
        "## 2. Modeling"
      ]
    },
    {
      "cell_type": "markdown",
      "metadata": {
        "id": "FLNjb2-2FSnf"
      },
      "source": [
        "### 2.1 Modeling : ARIMA\n"
      ]
    },
    {
      "cell_type": "code",
      "execution_count": null,
      "metadata": {
        "id": "J0RRf-3JFTZP"
      },
      "outputs": [],
      "source": [
        "from statsmodels.tsa.arima.model import ARIMA"
      ]
    },
    {
      "cell_type": "markdown",
      "metadata": {
        "id": "hXPMMMivYZ5j"
      },
      "source": [
        "ARIMA is an acronym that stands for AutoRegressive Integrated Moving Average, capturing the key aspects of the model :\n",
        "\n",
        "- **AR** : *AutoRegressive* A model that uses the dependent relationship between an observation and some number of lagged observations.\n",
        "A pure AR model is such that :\n",
        "$$\n",
        "Y_t = \\alpha + \\beta_1 Y_{t-1} + \\beta_2 Y_{t-2} + ... + \\beta_{p} Y_{t-p} + \\epsilon_1\n",
        "$$\n",
        "- **I** : *Integrated* The use of differencing of raw observations in order to make the time series stationary\n",
        "- **MA** : *Moving Average* A model that uses the dependency between an observation and a residual error from a moving average model applied to lagged observations\n",
        "A pure moving average model is such that :\n",
        "$$\n",
        "Y_t = \\alpha + \\epsilon_t + \\phi_1 \\epsilon_{t-1} + \\phi_2 \\epsilon_{t-2} + ... + \\phi_q \\epsilon_{t-q}\n",
        "$$\n",
        "\n",
        "\n",
        "Thus finally, the equation for ARIMA becomes :\n",
        "$$\n",
        "Y_t = \\alpha + \\beta_1 Y_{t-1} + ... + \\beta_p Y_{t-p} \\epsilon_t + \\phi_1 \\epsilon_{t-1} + ... + \\phi_q \\epsilon_{t-q} \n",
        "$$\n",
        "\n",
        "Each of these components is specified in the model as a parameter :\n",
        "- **p** : number of lag observations\n",
        "- **d** : number of times that raw observations are differenced. \n",
        "It is the minimum number of differencing needed to make the series stationary. If the time series is already stationary, then d= 0\n",
        "- **q** : size of moving average window\n",
        "\n",
        "Now, we will fit an ARIMA forecast model to the daily minimum temperature data.\n",
        "Note that the data contains a one-year seasonal component. We will ignore it for now, **but a SARIMA model could be used instead.**\n"
      ]
    },
    {
      "cell_type": "code",
      "execution_count": null,
      "metadata": {
        "id": "JuHItgDnzlz7"
      },
      "outputs": [],
      "source": [
        "# Create an ARIMA model (check the statsmodels docs)\n",
        "model = ...\n",
        "\n",
        "# fit model\n",
        "model_fit = model.fit()\n",
        "print(model_fit.summary())"
      ]
    },
    {
      "cell_type": "code",
      "execution_count": null,
      "metadata": {
        "id": "F7PBGeL4z2X-"
      },
      "outputs": [],
      "source": [
        "# reviewing the residual errors\n",
        "# line plot\n",
        "residuals = pd.DataFrame(model_fit.resid)\n",
        "residuals.plot()\n",
        "plt.show()\n",
        "# density plot\n",
        "residuals.plot(kind='kde')\n",
        "plt.show()\n",
        "# summary stats\n",
        "print(\"Residuals stats:\", residuals.describe())"
      ]
    },
    {
      "cell_type": "markdown",
      "metadata": {},
      "source": [
        "Now, evaluate your model on the training set `test_df`. Use a regression metric to compute a score (mean square error for instance).\n",
        "\n",
        "Try small: forecast the next 50 days.\n",
        "\n",
        "What happens if you try to forecast a long period of time?"
      ]
    },
    {
      "cell_type": "code",
      "execution_count": null,
      "metadata": {},
      "outputs": [],
      "source": [
        "from math import sqrt\n",
        "from sklearn.metrics import mean_squared_error\n",
        "\n",
        "\n",
        "# Make forecast for 50 days and compute score\n",
        "# (hint: see the forecast() function of the ARIMA model)\n",
        "y_pred = ..."
      ]
    },
    {
      "cell_type": "code",
      "execution_count": null,
      "metadata": {},
      "outputs": [],
      "source": [
        "# Plot forecasts\n",
        "plt.plot(y_pred.values)\n",
        "plt.plot(test_df.iloc[:50])\n",
        "plt.show()"
      ]
    },
    {
      "cell_type": "markdown",
      "metadata": {
        "id": "D5Jldf6ETgZV"
      },
      "source": [
        "## Exercise: Mauna Loa CO<sub>2</sub> concentration levels (1975 - 2021)\n",
        "\n",
        "\n",
        "Carbon dioxyde (CO<sub>2</sub>) is a gas naturaly present in our environment. However, the concentration of CO<sub>2</sub> is increasing every year, mainly because of human activities. It is one of the major cause of global warming, and its value is precautiounously measured since 1973 at the Mauna Loa observatory, in Hawaii.\n",
        "\n",
        "We will get interested on the measures performed between 1975 and 2021. The dataset is composed of monthly averaged values. Values are expressed in *ppm* (parts-per-million).\n",
        "\n",
        "**Question: Appliying the method described above, model the behaviour of this timeseries.**\n",
        "\n",
        "**Question: Using your model, make some short term predictions after 2001, and evaluate your model.**\n",
        "\n",
        "*Some help*\n",
        "\n",
        "- Be careful ! This timeseries is more difficult to model (do not forget the stationarity property...)\n",
        "- If a timeseries is not stationary, one can **differenciate** its values over time to create a stationary approximation of the timeseries (like ARIMA does). You can also **remove the linear trend** from the data. Differencing (for an order 1 differenciation) implies transforming $X[t]$ into $X[t] - X[t-1]$.\n",
        "- Maybe a seasonal model (SARIMA, ...) could be interesting ?\n",
        "- You can do projections by using the model as a **generative model**: using the predicted value $X[t]$, you can predict $X[t+1$] using $X[t]$, then predict $X[t+2]$ using $X[t+1]$ and so on, using only the predictions of your model. For instance, with a dataset stopping in December 2021, you can predict January 2022 using December 2021, which you know from the dataset. Then, you can predict February 2022 from January 2022, March 2022 from February 2022...\n",
        "\n",
        "*Reference:*\n",
        "\n",
        "K.W. Thoning, A.M. Crotwell, and J.W. Mund (2021), Atmospheric Carbon Dioxide Dry Air Mole Fractions from continuous measurements at Mauna Loa, Hawaii, Barrow, Alaska, American Samoa and South Pole. 1973-2020, Version 2021-08-09 National Oceanic and Atmospheric Administration (NOAA), Global Monitoring Laboratory (GML), Boulder, Colorado, USA"
      ]
    },
    {
      "cell_type": "code",
      "execution_count": null,
      "metadata": {
        "id": "hoJIl7JfGUT5"
      },
      "outputs": [],
      "source": [
        "ts = pd.read_csv(\"https://gml.noaa.gov/webdata/ccgg/trends/co2/co2_mm_mlo.csv\", header=39)\n",
        "\n",
        "ts = ts[ts[\"year\"] > 1975]\n",
        "ts[\"day\"] = 1\n",
        "\n",
        "time_index = pd.DatetimeIndex(pd.to_datetime(ts[[\"year\", \"month\", \"day\"]]))\n",
        "ts = ts.set_index(time_index)\n",
        "ts = pd.Series(ts[\"average\"])"
      ]
    },
    {
      "cell_type": "markdown",
      "metadata": {
        "id": "AtixHPpNI4Wg"
      },
      "source": [
        "Train dataset ends at January 1st 2000. "
      ]
    },
    {
      "cell_type": "code",
      "execution_count": null,
      "metadata": {
        "id": "MUkdxbzYIXl5"
      },
      "outputs": [],
      "source": [
        "test_begin = datetime.datetime(2000, 1, 1)\n",
        "ts_train = ts.loc[:test_begin]\n",
        "ts_test = ts.loc[test_begin:]"
      ]
    },
    {
      "cell_type": "code",
      "execution_count": null,
      "metadata": {
        "id": "mht4KUoMJCAH"
      },
      "outputs": [],
      "source": [
        "plt.figure(figsize=(10, 5))\n",
        "plt.plot(ts_train, label=\"Train\")\n",
        "plt.plot(ts_test, label=\"Test\")\n",
        "plt.legend()\n",
        "plt.xlabel(\"Time\")\n",
        "plt.ylabel(\"CO2 (ppm)\")\n",
        "plt.show()"
      ]
    },
    {
      "cell_type": "markdown",
      "metadata": {
        "id": "H3trApfwGwx5"
      },
      "source": [
        "### Identification\n",
        "\n",
        "\n",
        "1. Analyse the timeseries, look for **trend**, **seasonality**, **stationarity**, and any other remarkable cues.\n",
        "\n",
        "2. Is the timeseries stationary ? If not, what to do ?\n",
        "\n",
        "Tools: \n",
        "\n",
        "    statsmodels.tsa.seasonal.seasonal_decompose\n",
        "    statsmodels.tsa.stattools.adfuller\n",
        "    statsmodels.tsa.stattools.kpss\n",
        "    pandas (.diff())\n",
        "    matplotlib"
      ]
    },
    {
      "cell_type": "code",
      "execution_count": null,
      "metadata": {
        "id": "oe35f38mHaOZ"
      },
      "outputs": [],
      "source": []
    },
    {
      "cell_type": "markdown",
      "metadata": {
        "id": "h1MMIi7DIF8W"
      },
      "source": [
        "3. What about autocorrelation ? What kind of model am I looking for ?\n",
        "\n",
        "4. What hyperparameters can I select ? (precise values or ranges)\n",
        "\n",
        "Tools: \n",
        "\n",
        "    statsmodels.graphics.tsaplots.plot_acf\n",
        "    statsmodels.graphics.tsaplots.plot_pacf"
      ]
    },
    {
      "cell_type": "code",
      "execution_count": null,
      "metadata": {
        "id": "zdJYb-UeIRjV"
      },
      "outputs": [],
      "source": []
    },
    {
      "cell_type": "markdown",
      "metadata": {
        "id": "Piwnas1AIT5e"
      },
      "source": [
        "## Estimation\n",
        "\n",
        "1. (Optional, if you have time) Choose a training procedure to test all hyperparameters combinations in a robust way (cross-validation, walk-forward, etc.)\n",
        "\n",
        "2. Choose metrics to record during estimation. Compute statistics over different cross-validation folds/train dataset lengths to assess the robustness of your model.\n",
        "\n",
        "3. Create a training loop for the model you chose, visualize metrics afterwards (predictions, metrics over hyperparameter/time/fold, Q-Q plots for residuals...)\n",
        "\n",
        "4. Select the best model(s).\n",
        "\n",
        "Tools:\n",
        "\n",
        "    statsmodels.tsa.arima.model.ARIMA\n",
        "    sklearn.metrics"
      ]
    },
    {
      "cell_type": "code",
      "execution_count": null,
      "metadata": {
        "id": "6bpMKjhPKJHB"
      },
      "outputs": [],
      "source": []
    },
    {
      "cell_type": "markdown",
      "metadata": {
        "id": "f2qKG4zRKM8w"
      },
      "source": [
        "### Evaluation\n",
        "\n",
        "1. Forecast on the test set.\n",
        "\n",
        "2. Forecast the future (with confidence interval if possible).\n"
      ]
    },
    {
      "cell_type": "markdown",
      "metadata": {},
      "source": [
        "### More insights: AR from scratch (just as an example, nothing to do here)\n",
        "\n",
        "AR stands for AutoRegressive. Autoregressive models describe the value of any points in a timeseries given the values of $p$ previous points, establishing a linear relashionship between them such that:\n",
        "\n",
        "$$\n",
        "X_t = \\alpha + \\beta_1 X_{t-1} + \\beta_2 X_{t-2} + ... + \\beta_{p} X_{t-p} + \\epsilon_t\n",
        "$$\n",
        "\n",
        "where $X$ is a timeseries, $p$ is the lag used in the AR model, also called the **order** of the model, and $\\beta=\\{\\beta, \\dots, \\beta_p\\}$ and $\\alpha$ are the parameters we want to estimate. $\\epsilon_t$ is a white noise random process that we will consider to be 0 for all time steps in our model.\n",
        "\n",
        "$X_t$ is therefore linearly dependent from its $p$ previous values $X_{t-1}, \\dots, X_{t-p}$. We can learn $\\beta_{[1, p]}$ and $\\alpha$ using a linear regression defined by:\n",
        "\n",
        "$$\n",
        "[\\alpha, \\beta_{[1, p]}] = X \\cdot X_{lags}^\\intercal \\cdot (X_{lags} \\cdot X_{lags}^\\intercal)^{-1}\n",
        "$$\n",
        "\n",
        "where $X$ is the whole timeseries with an available lag ($t-p$ timesteps have $p$ past values, the $p$ first timesteps do not have pasts values), and $X_{lags}$ are the $X_{t-1}, \\dots, X_{t-p}$ for all time steps with an available lag $t-p$."
      ]
    },
    {
      "cell_type": "code",
      "execution_count": null,
      "metadata": {},
      "outputs": [],
      "source": [
        "# We store all values of the series in a numpy array called series\n",
        "series = df[\"Temp\"].values"
      ]
    },
    {
      "cell_type": "code",
      "execution_count": null,
      "metadata": {},
      "outputs": [],
      "source": [
        "def auto_regression(series, order):\n",
        "    \n",
        "    n_points = len(series)\n",
        "\n",
        "    # All lagged values will be stored in y_lag.\n",
        "    # If order is 7, for each timestep we will store 7 values.\n",
        "    X_lag = np.zeros((order, n_points-order))\n",
        "\n",
        "    # All current values will be stores in X.\n",
        "    X = np.zeros((1, n_points-order))\n",
        "    for i in range(0, n_points-order-1):\n",
        "        X_lag[:, i] = series[i:i+order]  # get the lagged values\n",
        "        X[:, i] = series[i+order+1]  # get the current value\n",
        "\n",
        "    # Add a constant term (c=1) to X_lag to compute alpha in the linear\n",
        "    # regression\n",
        "    X_lag = np.vstack((np.ones((1, n_points-order)), X_lag))\n",
        "\n",
        "    # Linear regression\n",
        "    coef = np.dot(np.dot(X, X_lag.T), scipy.linalg.pinv(np.dot(X_lag, X_lag.T)))\n",
        "    \n",
        "    alpha = coef[:, 0]\n",
        "    beta = coef[:, 1:]\n",
        "\n",
        "    return alpha, beta"
      ]
    },
    {
      "cell_type": "code",
      "execution_count": null,
      "metadata": {},
      "outputs": [],
      "source": [
        "alpha, beta = auto_regression(series, order=9)"
      ]
    },
    {
      "cell_type": "markdown",
      "metadata": {},
      "source": [
        "Now that we have our coefficients learned, we can make predictions."
      ]
    },
    {
      "cell_type": "code",
      "execution_count": null,
      "metadata": {},
      "outputs": [],
      "source": [
        "lag = beta.shape[1]\n",
        "\n",
        "Y_truth = []  # real timeseries\n",
        "Y_pred = []   # predictions\n",
        "for i in range(0, len(series)-lag-1):\n",
        "    # apply the equation of AR using the coefficients at each time steps\n",
        "    y = alpha + np.dot(beta, series[i:i+lag]) # y[t] = alpha + y[t-1]*beta1 + y[t-2]*beta2 + ...\n",
        "\n",
        "    Y_pred.append(y)\n",
        "    Y_truth.append(series[i+lag+1])\n",
        "\n",
        "Y_pred = np.array(Y_pred).flatten()\n",
        "Y_truth = np.array(Y_truth).flatten()"
      ]
    },
    {
      "cell_type": "code",
      "execution_count": null,
      "metadata": {},
      "outputs": [],
      "source": [
        "# Plot the results for one year\n",
        "plt.plot(series[lag+1:lag+366], label=\"True series\")\n",
        "plt.plot(Y_pred[:365], label=\"Predicted values\")\n",
        "plt.legend()\n",
        "plt.show()"
      ]
    },
    {
      "cell_type": "markdown",
      "metadata": {},
      "source": [
        "And here are our coefficients:"
      ]
    },
    {
      "cell_type": "code",
      "execution_count": null,
      "metadata": {},
      "outputs": [],
      "source": [
        "coefs = np.c_[alpha, beta]\n",
        "plt.bar(np.arange(coefs.shape[1]), coefs.flatten())\n",
        "labels = ['$\\\\alpha$']\n",
        "for i in range(beta.shape[1]):\n",
        "    labels.append(f\"$\\\\beta_{i+1}$\")\n",
        "\n",
        "plt.xticks(np.arange(coefs.shape[1]), labels)\n",
        "plt.show()"
      ]
    }
  ],
  "metadata": {
    "colab": {
      "collapsed_sections": [],
      "include_colab_link": true,
      "provenance": []
    },
    "kernelspec": {
      "display_name": "Python 3",
      "name": "python3"
    },
    "language_info": {
      "codemirror_mode": {
        "name": "ipython",
        "version": 3
      },
      "file_extension": ".py",
      "mimetype": "text/x-python",
      "name": "python",
      "nbconvert_exporter": "python",
      "pygments_lexer": "ipython3",
      "version": "3.10.12"
    }
  },
  "nbformat": 4,
  "nbformat_minor": 0
}
